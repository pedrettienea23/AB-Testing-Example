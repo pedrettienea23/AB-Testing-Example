{
 "cells": [
  {
   "cell_type": "markdown",
   "id": "0a73b29b-6a6e-4103-afec-801ca9cfc0fc",
   "metadata": {},
   "source": [
    "# A/B Test\n",
    "\n",
    "A company that owns a website wants to introduce a new feature. Its goal is to determine whether this feature leads to an increase in the average time users spend on the website.\n",
    "\n",
    "To evaluate this, an A/B test is conducted with two groups:\n",
    "\n",
    "- **Test Group:** 100 participants who use the website *with* the new feature.  \n",
    "- **Control Group:** 100 different participants who use the website *without* the new feature.\n",
    "\n",
    "## Results\n",
    "\n",
    "- **Test Group:** Average time spent = **16 minutes**, Standard deviation = **2.5 minutes**  \n",
    "- **Control Group:** Average time spent = **15 minutes**, Standard deviation = **2 minutes**\n",
    "\n",
    "The observed difference in average time spent is **1 minute**.\n",
    "\n",
    "## Question\n",
    "\n",
    "Is this difference statistically significant enough to conclude that the new feature effectively increases user engagement?\n",
    "\n",
    "P.s. A statistical significance treshold of 95% is used"
   ]
  },
  {
   "cell_type": "markdown",
   "id": "baf5a2de-7c18-49c9-8da3-35e76f2bc101",
   "metadata": {},
   "source": [
    "## Data generation"
   ]
  },
  {
   "cell_type": "code",
   "execution_count": 3,
   "id": "cebb302b-9f43-4859-b5c1-dc5a08cedf97",
   "metadata": {},
   "outputs": [
    {
     "data": {
      "image/png": "[encoded data removed]",
      "text/plain": [
       "<Figure size 640x480 with 1 Axes>"
      ]
     },
     "metadata": {},
     "output_type": "display_data"
    }
   ],
   "source": [
    "import numpy as np\n",
    "import matplotlib.pyplot as plt\n",
    "\n",
    "np.random.seed(1)\n",
    "\n",
    "N = 100\n",
    "\n",
    "mean_control = 15\n",
    "mean_test = 16\n",
    "\n",
    "std_control = 2\n",
    "std_test = 2.5\n",
    "\n",
    "control = np.random.normal(loc = mean_control, scale = std_control, size = N)\n",
    "test = np.random.normal(loc = mean_test, scale = std_test, size = N)\n",
    "\n",
    "plt.hist(control, bins = 30, label = 'Control group')\n",
    "plt.hist(test, bins = 30, label = 'Test group')\n",
    "plt.legend()\n",
    "plt.show()"
   ]
  },
  {
   "cell_type": "markdown",
   "id": "83e8c56f-28f2-47c7-ba3c-c06a1bc17f41",
   "metadata": {},
   "source": [
    "## Plan of Action\n",
    "\n",
    "To determine whether the new feature increases user engagement, we need to assess if there is a **statistically significant difference** between the **means of the two samples**. This requires performing a **hypothesis test for the difference in means**.\n",
    "\n",
    "### Steps:\n",
    "\n",
    "1. **Check for Normality:**  \n",
    "   Determine if the data in both samples follow a **normal distribution**. This can be done using the **Shapiro-Wilk test**.\n",
    "\n",
    "2. **Assess Variance Homogeneity:**  \n",
    "   Verify if the two samples have **equal variances** using tests like **Levene's test** or **Bartlett's test**. This will help decide whether to apply a standard t-test (assuming equal variances) or Welch's t-test (assuming unequal variances).\n",
    "\n",
    "3. **Identify the Relationship Between Samples:**  \n",
    "   Determine if the samples are **paired** (dependent) or **independent**. In this case, since the test and control groups consist of **different participants**, they are **independent samples**.\n",
    "\n",
    "4. **Choose the Appropriate Test:**  \n",
    "   - If both samples are normally distributed and have equal variances, use an **independent samples t-test**.  \n",
    "   - If normality is violated, consider using a **non-parametric test** like the **Mann-Whitney U test**.  \n",
    "   - If variances are unequal, apply **Welch’s t-test**.\n",
    "\n",
    "By following these steps, we can accurately determine whether the observed difference in average time spent on the website is **statistically significant**.\n"
   ]
  },
  {
   "cell_type": "markdown",
   "id": "7d82d865-1598-4dda-aeb5-2ad58f9a58e9",
   "metadata": {},
   "source": [
    "### Normalcy test (Shapiro-Wilk's Test)"
   ]
  },
  {
   "cell_type": "code",
   "execution_count": 20,
   "id": "c4eb4fcb-8817-400e-b68d-e4ef8c999182",
   "metadata": {},
   "outputs": [
    {
     "name": "stdout",
     "output_type": "stream",
     "text": [
      "0.5715968137714403 0.8215451857179022\n"
     ]
    }
   ],
   "source": [
    "from scipy import stats\n",
    "\n",
    "test_norm = stats.shapiro(test)[1]\n",
    "control_norm = stats.shapiro(control)[1]\n",
    "\n",
    "print(test_norm, control_norm)"
   ]
  },
  {
   "cell_type": "markdown",
   "id": "82748f26-5b15-47a2-a439-fd3a7e36aeb3",
   "metadata": {},
   "source": [
    "We can assume normalcy. Therefore, we can use the Levene's test as equal variance test"
   ]
  },
  {
   "cell_type": "markdown",
   "id": "5abe10f2-fd77-4f1a-9445-a97fd9859f89",
   "metadata": {},
   "source": [
    "### Equal Variance test (Levene's Test)"
   ]
  },
  {
   "cell_type": "code",
   "execution_count": 24,
   "id": "7e3a1cd5-5334-4c59-943b-317a512333c6",
   "metadata": {},
   "outputs": [
    {
     "name": "stdout",
     "output_type": "stream",
     "text": [
      "0.03357053470822663\n"
     ]
    }
   ],
   "source": [
    "print(stats.levene(test, control)[1])"
   ]
  },
  {
   "cell_type": "markdown",
   "id": "b486b054-1da8-446f-ad8b-f880328a9fef",
   "metadata": {},
   "source": [
    "We cannot assume equal variances. Thus, we can use the Welsh's test for the means. We also know that the populations are independent since no member of group is in the other as well."
   ]
  },
  {
   "cell_type": "markdown",
   "id": "17afef86-48fd-435b-aa23-7a6280c0bbcf",
   "metadata": {},
   "source": [
    "### Equal Means test (Welsh's Test)"
   ]
  },
  {
   "cell_type": "code",
   "execution_count": 28,
   "id": "3b5e86ae-b5e0-408a-a007-a638a8bb7b26",
   "metadata": {},
   "outputs": [
    {
     "name": "stdout",
     "output_type": "stream",
     "text": [
      "2.912201882250832e-05\n"
     ]
    }
   ],
   "source": [
    "print(stats.ttest_ind(control, test, equal_var = False)[1])"
   ]
  },
  {
   "cell_type": "markdown",
   "id": "454f899c-7aef-4865-a1c1-70205aec0b96",
   "metadata": {},
   "source": [
    "We can conclude that the difference in the means of the two samples is **statistically significant**, allowing us to **reject the null hypothesis**, which states that there is no difference in the population means. Therefore, we can infer that the new feature effectively **increases user engagement**.\n",
    "\n",
    "Moreover, since the **variance** in the test group is higher, we can conclude that while the **average time spent on the website has increased**, the **duration varies more significantly between users**.\n"
   ]
  },
  {
   "cell_type": "code",
   "execution_count": null,
   "id": "a146973f-f459-46a6-beec-914c6d83823c",
   "metadata": {},
   "outputs": [],
   "source": []
  }
 ],
 "metadata": {
  "kernelspec": {
   "display_name": "Python [conda env:base] *",
   "language": "python",
   "name": "conda-base-py"
  },
  "language_info": {
   "codemirror_mode": {
    "name": "ipython",
    "version": 3
   },
   "file_extension": ".py",
   "mimetype": "text/x-python",
   "name": "python",
   "nbconvert_exporter": "python",
   "pygments_lexer": "ipython3",
   "version": "3.12.7"
  }
 },
 "nbformat": 4,
 "nbformat_minor": 5
}
